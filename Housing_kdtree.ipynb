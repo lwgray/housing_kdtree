{
 "cells": [
  {
   "cell_type": "code",
   "execution_count": 1,
   "metadata": {
    "collapsed": true
   },
   "outputs": [],
   "source": [
    "from pandas import Series, DataFrame\n",
    "import pandas as pd\n",
    "import numpy as np\n",
    "import numpy.random as npr\n",
    "import random\n",
    "from scipy.spatial import KDTree\n",
    "from sklearn.metrics import mean_absolute_error\n",
    "import matplotlib.pyplot as plt\n",
    "import sys\n",
    "\n",
    "sys.setrecursionlimit(10000)"
   ]
  },
  {
   "cell_type": "code",
   "execution_count": 2,
   "metadata": {},
   "outputs": [
    {
     "name": "stdout",
     "output_type": "stream",
     "text": [
      "    MSSubClass MSZoning  LotFrontage  LotArea Street Alley LotShape\n",
      "Id                                                                 \n",
      "1           60       RL         65.0     8450   Pave   NaN      Reg\n",
      "2           20       RL         80.0     9600   Pave   NaN      Reg\n",
      "3           60       RL         68.0    11250   Pave   NaN      IR1\n",
      "4           70       RL         60.0     9550   Pave   NaN      IR1\n",
      "5           60       RL         84.0    14260   Pave   NaN      IR1\n",
      "6           50       RL         85.0    14115   Pave   NaN      IR1\n",
      "7           20       RL         75.0    10084   Pave   NaN      Reg\n",
      "8           60       RL          NaN    10382   Pave   NaN      IR1\n",
      "9           50       RM         51.0     6120   Pave   NaN      Reg\n",
      "10         190       RL         50.0     7420   Pave   NaN      Reg\n"
     ]
    }
   ],
   "source": [
    "# import housing data (Data taken from person looking to hire someone on Upwork(freelancer website))\n",
    "# Data must be munged\n",
    "df = pd.read_csv('data.csv')\n",
    "df.set_index(['Id'], inplace=True)\n",
    "print df[['MSSubClass', 'MSZoning', 'LotFrontage', 'LotArea', 'Street', 'Alley', 'LotShape']].head(10)"
   ]
  },
  {
   "cell_type": "code",
   "execution_count": 3,
   "metadata": {},
   "outputs": [
    {
     "name": "stdout",
     "output_type": "stream",
     "text": [
      "    MSSubClass MSZoning  LotFrontage  LotArea Street Alley LotShape\n",
      "Id                                                                 \n",
      "1           60       RL         65.0     8450   Pave   NaN      Reg\n",
      "2           20       RL         80.0     9600   Pave   NaN      Reg\n",
      "3           60       RL         68.0    11250   Pave   NaN      IR1\n",
      "4           70       RL         60.0     9550   Pave   NaN      IR1\n",
      "5           60       RL         84.0    14260   Pave   NaN      IR1\n",
      "6           50       RL         85.0    14115   Pave   NaN      IR1\n",
      "7           20       RL         75.0    10084   Pave   NaN      Reg\n",
      "8           60       RL          0.0    10382   Pave   NaN      IR1\n",
      "9           50       RM         51.0     6120   Pave   NaN      Reg\n",
      "10         190       RL         50.0     7420   Pave   NaN      Reg\n"
     ]
    }
   ],
   "source": [
    "# Select all columns that are numeric data types and fill NaN values with 0\n",
    "# The Alley column contains categorical data so the NaN aren't converted at this step\n",
    "# Compare column LotFrontage row 8 with table below - NaN is converted to Zero\n",
    "numerics = ['int8', 'int16', 'int32', 'int64', 'float16', 'float32', 'float64']\n",
    "num_columns = df.select_dtypes(include=numerics).columns\n",
    "df[num_columns] = df[num_columns].apply(lambda x: x.fillna(0))\n",
    "print df[['MSSubClass', 'MSZoning', 'LotFrontage', 'LotArea', 'Street', 'Alley', 'LotShape']].head(10)"
   ]
  },
  {
   "cell_type": "code",
   "execution_count": 12,
   "metadata": {},
   "outputs": [],
   "source": [
    "# Select all columns that are objects and convert them to Categorical Data types\n",
    "obj_columns = df.select_dtypes(['object']).columns\n",
    "df[obj_columns] = df[obj_columns].apply(lambda x: x.astype('category'))\n"
   ]
  },
  {
   "cell_type": "code",
   "execution_count": 5,
   "metadata": {},
   "outputs": [
    {
     "name": "stdout",
     "output_type": "stream",
     "text": [
      "    MSSubClass  MSZoning  LotFrontage  LotArea  Street  Alley  LotShape\n",
      "Id                                                                     \n",
      "1           60         3         65.0     8450       1     -1         3\n",
      "2           20         3         80.0     9600       1     -1         3\n",
      "3           60         3         68.0    11250       1     -1         0\n",
      "4           70         3         60.0     9550       1     -1         0\n",
      "5           60         3         84.0    14260       1     -1         0\n",
      "6           50         3         85.0    14115       1     -1         0\n",
      "7           20         3         75.0    10084       1     -1         3\n",
      "8           60         3          0.0    10382       1     -1         0\n",
      "9           50         4         51.0     6120       1     -1         3\n",
      "10         190         3         50.0     7420       1     -1         3\n"
     ]
    }
   ],
   "source": [
    "# Select only category columns and turn category to codes \n",
    "# This might be incorrect way to do this because the category aren't value base\n",
    "# Right way might be to create dummy values\n",
    "cat_columns = df.select_dtypes(['category']).columns\n",
    "df[cat_columns] = df[cat_columns].apply(lambda x: x.cat.codes)\n",
    "print df[['MSSubClass', 'MSZoning', 'LotFrontage', 'LotArea', 'Street', 'Alley', 'LotShape']].head(10)"
   ]
  },
  {
   "cell_type": "code",
   "execution_count": 6,
   "metadata": {
    "collapsed": true
   },
   "outputs": [],
   "source": [
    "# Normalize data\n",
    "values = df['SalePrice']\n",
    "houses = df.drop('SalePrice', 1)\n",
    "houses = (houses - houses.mean()) / (houses.max() - houses.min())"
   ]
  },
  {
   "cell_type": "code",
   "execution_count": 7,
   "metadata": {
    "collapsed": true
   },
   "outputs": [],
   "source": [
    "# create KDTree\n",
    "kdtree = KDTree(houses)"
   ]
  },
  {
   "cell_type": "code",
   "execution_count": 8,
   "metadata": {
    "collapsed": true
   },
   "outputs": [],
   "source": [
    "def test_regression(holdout, v, h):\n",
    "    # Setup training and test data\n",
    "    test_rows = random.sample(h.index.tolist(),int(round(len(h) * holdout)))\n",
    "    train_rows = set(range(len(h))) - set(test_rows)\n",
    "    df_test = h.loc[test_rows]\n",
    "    df_train = h.drop(test_rows)\n",
    "    train_values = v.loc[train_rows]\n",
    "    values_actual = []\n",
    "    values_regr = []\n",
    "    for idx, row in df_test.iterrows():\n",
    "        _, indexes = kdtree.query(row, 5)\n",
    "        values_regr.append(np.mean(v.iloc[indexes]))\n",
    "        values_actual.append(v[idx])\n",
    "    return values_regr, values_actual"
   ]
  },
  {
   "cell_type": "code",
   "execution_count": 9,
   "metadata": {
    "collapsed": true
   },
   "outputs": [],
   "source": [
    "def tests(folds, v, h):\n",
    "    holdout = 1 / float(folds)\n",
    "    errors = []\n",
    "    for _ in range(folds):\n",
    "        values_regress, values_actual = test_regression(holdout, v, h)\n",
    "        errors.append(mean_absolute_error(values_actual, values_regress))\n",
    "    return errors"
   ]
  },
  {
   "cell_type": "code",
   "execution_count": 10,
   "metadata": {
    "collapsed": true
   },
   "outputs": [],
   "source": [
    "  def plot_error_rates(v, h):\n",
    "    \"\"\"\n",
    "    Plots MAE vs #folds\n",
    "    \"\"\"\n",
    "    folds_range = range(2, 11)\n",
    "    errors_df = pd.DataFrame({'max': 0, 'min': 0}, index=folds_range)\n",
    "    for folds in folds_range:\n",
    "      errors = tests(folds, v, h)\n",
    "      errors_df['max'][folds] = max(errors)\n",
    "      errors_df['min'][folds] = min(errors)\n",
    "    errors_df.plot(title='Mean Absolute Error of KNN over different folds_range')\n",
    "    plt.xlabel('#folds_range')\n",
    "    plt.ylabel('MAE')\n",
    "    plt.show()"
   ]
  },
  {
   "cell_type": "code",
   "execution_count": 11,
   "metadata": {},
   "outputs": [
    {
     "data": {
      "image/png": "[encoded data removed]",
      "text/plain": [
       "<matplotlib.figure.Figure at 0xabeb434c>"
      ]
     },
     "metadata": {},
     "output_type": "display_data"
    }
   ],
   "source": [
    "plot_error_rates(values, houses)"
   ]
  }
 ],
 "metadata": {
  "kernelspec": {
   "display_name": "Python 2",
   "language": "python",
   "name": "python2"
  },
  "language_info": {
   "codemirror_mode": {
    "name": "ipython",
    "version": 2
   },
   "file_extension": ".py",
   "mimetype": "text/x-python",
   "name": "python",
   "nbconvert_exporter": "python",
   "pygments_lexer": "ipython2",
   "version": "2.7.13"
  }
 },
 "nbformat": 4,
 "nbformat_minor": 2
}
